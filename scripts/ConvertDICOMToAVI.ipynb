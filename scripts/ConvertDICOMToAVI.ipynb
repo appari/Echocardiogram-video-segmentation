{
 "cells": [
  {
   "cell_type": "code",
   "execution_count": 2,
   "metadata": {},
   "outputs": [],
   "source": [
    "# David Ouyang 10/2/2019\n",
    "\n",
    "# Notebook which iterates through a folder, including subfolders, \n",
    "# and convert DICOM files to AVI files of a defined size (natively 112 x 112)\n",
    "\n",
    "import re\n",
    "import os, os.path\n",
    "from os.path import splitext\n",
    "import pydicom as dicom\n",
    "import numpy as np\n",
    "from pydicom.uid import UID, generate_uid\n",
    "import shutil\n",
    "from multiprocessing import dummy as multiprocessing\n",
    "import time\n",
    "import subprocess\n",
    "import datetime\n",
    "from datetime import date\n",
    "import sys\n",
    "import cv2\n",
    "#from scipy.misc import imread\n",
    "import matplotlib.pyplot as plt\n",
    "import sys\n",
    "from shutil import copy\n",
    "import math\n",
    "\n",
    "destinationFolder = \"Output Folder Name\"\n"
   ]
  },
  {
   "cell_type": "code",
   "execution_count": 1,
   "metadata": {},
   "outputs": [],
   "source": [
    "# Dependencies you might need to run code\n",
    "# Commonly missing\n",
    "\n",
    "#!pip install pydicom\n",
    "#!pip install opencv-python\n"
   ]
  },
  {
   "cell_type": "code",
   "execution_count": 4,
   "metadata": {},
   "outputs": [],
   "source": [
    "def mask(output):\n",
    "    dimension = output.shape[0]\n",
    "    \n",
    "    # Mask pixels outside of scanning sector\n",
    "    m1, m2 = np.meshgrid(np.arange(dimension), np.arange(dimension))\n",
    "    \n",
    "\n",
    "    mask = ((m1+m2)>int(dimension/2) + int(dimension/10)) \n",
    "    mask *=  ((m1-m2)<int(dimension/2) + int(dimension/10))\n",
    "    mask = np.reshape(mask, (dimension, dimension)).astype(np.int8)\n",
    "    maskedImage = cv2.bitwise_and(output, output, mask = mask)\n",
    "    \n",
    "    #print(maskedImage.shape)\n",
    "    \n",
    "    return maskedImage\n",
    "\n"
   ]
  },
  {
   "cell_type": "code",
   "execution_count": 5,
   "metadata": {},
   "outputs": [],
   "source": [
    "import os\n",
    "import cv2\n",
    "import numpy as np\n",
    "\n",
    "def convertVideo(input_file, destination_file, final_size=(112, 112), fps=20):\n",
    "    try:\n",
    "        fileName = os.path.basename(input_file)\n",
    "        output_file = destination_file\n",
    "\n",
    "        cap = cv2.VideoCapture(input_file)\n",
    "        frame_count = int(cap.get(cv2.CAP_PROP_FRAME_COUNT))\n",
    "        frame_width = int(cap.get(cv2.CAP_PROP_FRAME_WIDTH))\n",
    "        frame_height = int(cap.get(cv2.CAP_PROP_FRAME_HEIGHT))\n",
    "        print(frame_height, frame_width)\n",
    "        v = np.zeros((frame_count, frame_height, frame_width, 3), np.uint8)\n",
    "\n",
    "        for count in range(frame_count):\n",
    "            ret, frame = cap.read()\n",
    "            if not ret:\n",
    "                raise ValueError(\"Failed to load frame #{} of {}.\".format(count, input_file))\n",
    "\n",
    "            frame = cv2.cvtColor(frame, cv2.COLOR_BGR2RGB)\n",
    "            v[count, :, :, :] = frame\n",
    "\n",
    "        # Resize video frames to the final size (112x112)\n",
    "        resized_video = np.zeros((frame_count, final_size[1], final_size[0], 3), np.uint8)\n",
    "        for count in range(frame_count):\n",
    "            resized_frame = cv2.resize(v[count, :, :, :], final_size, interpolation=cv2.INTER_CUBIC)\n",
    "            resized_video[count, :, :, :] = resized_frame\n",
    "\n",
    "        # Transpose dimensions to (channels=3, frames, height, width)\n",
    "        resized_video = resized_video.transpose((3, 0, 1, 2))\n",
    "\n",
    "        # Save the converted video with 'F','F','V','1' encoding (lossless)\n",
    "        fourcc = cv2.VideoWriter_fourcc('F', 'F', 'V', '1')\n",
    "        out = cv2.VideoWriter(output_file, fourcc, fps, final_size)\n",
    "        for count in range(frame_count):\n",
    "            frame = resized_video[:, count, :, :].transpose((1, 2, 0))\n",
    "            out.write(frame)\n",
    "\n",
    "        cap.release()\n",
    "        out.release()\n",
    "        cv2.destroyAllWindows()\n",
    "\n",
    "    except Exception as e:\n",
    "        print(\"Something failed, not sure what, have to debug:\", fileName)\n",
    "        print(e)\n",
    "\n",
    "    return 0\n"
   ]
  },
  {
   "cell_type": "code",
   "execution_count": 1,
   "metadata": {},
   "outputs": [],
   "source": [
    "import os\n",
    "import cv2\n",
    "import numpy as np\n",
    "import matplotlib.pyplot as plt\n",
    "from mayo_scripts.process_external_james import segment_cardiac_echo\n",
    "\n",
    "def convertVideo(input_file, destination_file, final_size=(112, 112), crop_size=(380, 320), fps=20):\n",
    "    try:\n",
    "        fileName = os.path.basename(input_file)\n",
    "        output_file = destination_file\n",
    "\n",
    "        cap = cv2.VideoCapture(input_file)\n",
    "        frame_count = int(cap.get(cv2.CAP_PROP_FRAME_COUNT))\n",
    "        frame_width = int(cap.get(cv2.CAP_PROP_FRAME_WIDTH))\n",
    "        frame_height = int(cap.get(cv2.CAP_PROP_FRAME_HEIGHT))\n",
    "        print(frame_height, frame_width)\n",
    "        v = np.zeros((frame_count, frame_height, frame_width, 3), np.uint8)\n",
    "\n",
    "        for count in range(frame_count):\n",
    "            ret, frame = cap.read()\n",
    "            if not ret:\n",
    "                raise ValueError(\"Failed to load frame #{} of {}.\".format(count, input_file))\n",
    "\n",
    "            frame = cv2.cvtColor(frame, cv2.COLOR_BGR2RGB)\n",
    "            frame_gray = cv2.cvtColor(frame, cv2.COLOR_BGR2GRAY)\n",
    "            contour_mask_single_channel = segment_cardiac_echo(frame_gray)\n",
    "            contour_mask = np.zeros_like(frame)\n",
    "            # print(frame.shape)\n",
    "            for channel in range(frame.shape[2]):\n",
    "                contour_mask[:, :, channel] = contour_mask_single_channel\n",
    "\n",
    "            # Apply the contour mask to each channel of the input frame\n",
    "            frame_crop = frame * contour_mask\n",
    "            v[count, :, :, :] = frame_crop\n",
    "\n",
    "        frame_h = int(frame.shape[0] * 0.13)\n",
    "        frame_w = int(frame.shape[1] * 0.21)\n",
    "        # Crop the middle region\n",
    "        crop_x = int((frame_width - crop_size[0]) / 2)\n",
    "        crop_y = int((frame_height - crop_size[1]) / 2)\n",
    "        # cropped_video = v[:, crop_y:crop_y+crop_size[1], crop_x:crop_x+crop_size[0], :]\n",
    "        cropped_video = v[:, frame_h:-frame_h, frame_w:-frame_w, :]\n",
    "\n",
    "        # Resize cropped video frames to the final size (112x112)\n",
    "        resized_video = np.zeros((frame_count, final_size[1], final_size[0], 3), np.uint8)\n",
    "        for count in range(frame_count):\n",
    "            resized_frame = cv2.resize(cropped_video[count, :, :, :], final_size, interpolation=cv2.INTER_CUBIC)\n",
    "            resized_video[count, :, :, :] = resized_frame\n",
    "\n",
    "        # Transpose dimensions to (channels=3, frames, height, width)\n",
    "        resized_video = resized_video.transpose((3, 0, 1, 2))\n",
    "\n",
    "        # Save the converted video with 'M','J','P','G' encoding\n",
    "        fourcc = cv2.VideoWriter_fourcc('M', 'J', 'P', 'G')\n",
    "        out = cv2.VideoWriter(output_file, fourcc, fps, final_size)\n",
    "        for count in range(frame_count):\n",
    "            frame = resized_video[:, count, :, :].transpose((1, 2, 0))\n",
    "            out.write(frame)\n",
    "\n",
    "        cap.release()\n",
    "        out.release()\n",
    "        cv2.destroyAllWindows()\n",
    "\n",
    "    except Exception as e:\n",
    "        print(\"Something failed, not sure what, have to debug:\", fileName)\n",
    "        print(e)\n",
    "\n",
    "    return 0\n"
   ]
  },
  {
   "cell_type": "code",
   "execution_count": 2,
   "metadata": {},
   "outputs": [
    {
     "name": "stdout",
     "output_type": "stream",
     "text": [
      "10 R468_AP4.avi\n",
      "434 636\n",
      "10 R460_AP4.avi\n",
      "434 636\n",
      "10 R204_AP4.avi\n",
      "434 636\n",
      "10 R502_AP4.avi\n",
      "434 636\n",
      "10 R205_AP4.avi\n",
      "434 636\n",
      "10 R473_AP4.avi\n",
      "434 636\n",
      "10 R582_AP4.avi\n",
      "434 636\n",
      "10 R233_AP4.avi\n",
      "434 636\n",
      "10 R489_AP4.avi\n",
      "434 636\n",
      "10 R186_AP4.avi\n",
      "434 636\n",
      "10 R471_AP4.avi\n",
      "434 636\n",
      "10 R461_AP4.avi\n",
      "434 636\n",
      "10 R169_AP4.avi\n",
      "434 636\n",
      "10 R495_AP4.avi\n",
      "434 636\n",
      "10 R526_AP4.avi\n",
      "434 636\n",
      "10 R358_AP4.avi\n",
      "434 636\n",
      "10 R425_AP4.avi\n",
      "434 636\n",
      "10 R499_AP4.avi\n",
      "434 636\n",
      "10 R510_AP4.avi\n",
      "434 636\n",
      "10 R525_AP4.avi\n",
      "434 636\n",
      "10 R192_AP4.avi\n",
      "434 636\n",
      "10 R408_AP4.avi\n",
      "434 636\n",
      "10 R506_AP4.avi\n",
      "434 636\n",
      "10 R338_AP4.avi\n",
      "434 636\n"
     ]
    }
   ],
   "source": [
    "AllA4cNames = \"/mnt/storage/Anonymized_echo_AP4/abnormals\"\n",
    "output_folder = \"/home/lalith/scratch/converted_echo_abnormal_AP4\"\n",
    "\n",
    "count = 10\n",
    "    \n",
    "cropSize = (112,112)\n",
    "\n",
    "\n",
    "for content in os.listdir(AllA4cNames):\n",
    "    VideoPath = os.path.join(AllA4cNames, content)\n",
    "\n",
    "    print(count, content)\n",
    "\n",
    "    # if not os.path.exists(os.path.join(output_folder, 'converted_'+content)):\n",
    "    convertVideo(VideoPath, os.path.join(output_folder, 'converted_'+content))\n",
    "        # makeVideo(VideoPath, destinationFolder)\n",
    "    # else:\n",
    "    #     print(\"Already did this file\", VideoPath)\n",
    "\n",
    "\n",
    "# print(len(AllA4cFilenames))"
   ]
  },
  {
   "cell_type": "code",
   "execution_count": 8,
   "metadata": {},
   "outputs": [
    {
     "name": "stdout",
     "output_type": "stream",
     "text": [
      "434 636\n"
     ]
    },
    {
     "data": {
      "text/plain": [
       "0"
      ]
     },
     "execution_count": 8,
     "metadata": {},
     "output_type": "execute_result"
    }
   ],
   "source": [
    "input_video_file = \"/home/lalith/scratch/echo_AP4/R025_AP4.avi\"\n",
    "output_folder = \"/home/lalith/scratch/converted_echo_AP4/Converted_R025_AP4.avi\"\n",
    "convertVideo(input_video_file, output_folder)"
   ]
  },
  {
   "cell_type": "code",
   "execution_count": 9,
   "metadata": {},
   "outputs": [
    {
     "name": "stdout",
     "output_type": "stream",
     "text": [
      "Collecting SimpleITK\n",
      "  Downloading SimpleITK-2.2.1-cp38-cp38-manylinux_2_17_x86_64.manylinux2014_x86_64.whl (52.7 MB)\n",
      "\u001b[K     |████████████████████████████████| 52.7 MB 390 kB/s eta 0:00:01\n",
      "\u001b[?25hInstalling collected packages: SimpleITK\n",
      "Successfully installed SimpleITK-2.2.1\n"
     ]
    }
   ],
   "source": [
    "!pip install SimpleITK"
   ]
  },
  {
   "cell_type": "code",
   "execution_count": null,
   "metadata": {},
   "outputs": [],
   "source": []
  }
 ],
 "metadata": {
  "kernelspec": {
   "display_name": "Python 3.8.10 64-bit",
   "language": "python",
   "name": "python3"
  },
  "language_info": {
   "codemirror_mode": {
    "name": "ipython",
    "version": 3
   },
   "file_extension": ".py",
   "mimetype": "text/x-python",
   "name": "python",
   "nbconvert_exporter": "python",
   "pygments_lexer": "ipython3",
   "version": "3.8.10"
  },
  "vscode": {
   "interpreter": {
    "hash": "e7370f93d1d0cde622a1f8e1c04877d8463912d04d973331ad4851f04de6915a"
   }
  }
 },
 "nbformat": 4,
 "nbformat_minor": 2
}
